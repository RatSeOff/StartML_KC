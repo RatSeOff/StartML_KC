{
 "cells": [
  {
   "cell_type": "code",
   "execution_count": 1,
   "metadata": {
    "id": "x9TbZ0UyyF0I"
   },
   "outputs": [],
   "source": [
    "import pandas as pd\n",
    "import numpy as np\n",
    "import matplotlib.pyplot as plt\n",
    "import seaborn as sns\n",
    "\n",
    "pd.options.display.max_columns = 500"
   ]
  },
  {
   "cell_type": "markdown",
   "metadata": {
    "id": "eCHwqIE8yF0M"
   },
   "source": [
    "### Загрузим датасет с машинами. Цель - верно восстанавливать для каждой из них цену продажи!"
   ]
  },
  {
   "cell_type": "code",
   "execution_count": 2,
   "metadata": {
    "id": "vHohclJJyF0O"
   },
   "outputs": [
    {
     "data": {
      "text/html": [
       "<div>\n",
       "<style scoped>\n",
       "    .dataframe tbody tr th:only-of-type {\n",
       "        vertical-align: middle;\n",
       "    }\n",
       "\n",
       "    .dataframe tbody tr th {\n",
       "        vertical-align: top;\n",
       "    }\n",
       "\n",
       "    .dataframe thead th {\n",
       "        text-align: right;\n",
       "    }\n",
       "</style>\n",
       "<table border=\"1\" class=\"dataframe\">\n",
       "  <thead>\n",
       "    <tr style=\"text-align: right;\">\n",
       "      <th></th>\n",
       "      <th>name</th>\n",
       "      <th>year</th>\n",
       "      <th>selling_price</th>\n",
       "      <th>km_driven</th>\n",
       "      <th>fuel</th>\n",
       "      <th>seller_type</th>\n",
       "      <th>transmission</th>\n",
       "      <th>owner</th>\n",
       "    </tr>\n",
       "  </thead>\n",
       "  <tbody>\n",
       "    <tr>\n",
       "      <th>0</th>\n",
       "      <td>Maruti 800 AC</td>\n",
       "      <td>2007</td>\n",
       "      <td>60000</td>\n",
       "      <td>70000</td>\n",
       "      <td>Petrol</td>\n",
       "      <td>Individual</td>\n",
       "      <td>Manual</td>\n",
       "      <td>First Owner</td>\n",
       "    </tr>\n",
       "    <tr>\n",
       "      <th>1</th>\n",
       "      <td>Maruti Wagon R LXI Minor</td>\n",
       "      <td>2007</td>\n",
       "      <td>135000</td>\n",
       "      <td>50000</td>\n",
       "      <td>Petrol</td>\n",
       "      <td>Individual</td>\n",
       "      <td>Manual</td>\n",
       "      <td>First Owner</td>\n",
       "    </tr>\n",
       "    <tr>\n",
       "      <th>2</th>\n",
       "      <td>Hyundai Verna 1.6 SX</td>\n",
       "      <td>2012</td>\n",
       "      <td>600000</td>\n",
       "      <td>100000</td>\n",
       "      <td>Diesel</td>\n",
       "      <td>Individual</td>\n",
       "      <td>Manual</td>\n",
       "      <td>First Owner</td>\n",
       "    </tr>\n",
       "    <tr>\n",
       "      <th>3</th>\n",
       "      <td>Datsun RediGO T Option</td>\n",
       "      <td>2017</td>\n",
       "      <td>250000</td>\n",
       "      <td>46000</td>\n",
       "      <td>Petrol</td>\n",
       "      <td>Individual</td>\n",
       "      <td>Manual</td>\n",
       "      <td>First Owner</td>\n",
       "    </tr>\n",
       "    <tr>\n",
       "      <th>4</th>\n",
       "      <td>Honda Amaze VX i-DTEC</td>\n",
       "      <td>2014</td>\n",
       "      <td>450000</td>\n",
       "      <td>141000</td>\n",
       "      <td>Diesel</td>\n",
       "      <td>Individual</td>\n",
       "      <td>Manual</td>\n",
       "      <td>Second Owner</td>\n",
       "    </tr>\n",
       "  </tbody>\n",
       "</table>\n",
       "</div>"
      ],
      "text/plain": [
       "                       name  year  selling_price  km_driven    fuel  \\\n",
       "0             Maruti 800 AC  2007          60000      70000  Petrol   \n",
       "1  Maruti Wagon R LXI Minor  2007         135000      50000  Petrol   \n",
       "2      Hyundai Verna 1.6 SX  2012         600000     100000  Diesel   \n",
       "3    Datsun RediGO T Option  2017         250000      46000  Petrol   \n",
       "4     Honda Amaze VX i-DTEC  2014         450000     141000  Diesel   \n",
       "\n",
       "  seller_type transmission         owner  \n",
       "0  Individual       Manual   First Owner  \n",
       "1  Individual       Manual   First Owner  \n",
       "2  Individual       Manual   First Owner  \n",
       "3  Individual       Manual   First Owner  \n",
       "4  Individual       Manual  Second Owner  "
      ]
     },
     "execution_count": 2,
     "metadata": {},
     "output_type": "execute_result"
    }
   ],
   "source": [
    "data = pd.read_csv('autos.csv')\n",
    "\n",
    "data.head()"
   ]
  },
  {
   "cell_type": "code",
   "execution_count": 3,
   "metadata": {
    "id": "_48JHObiyF0P"
   },
   "outputs": [],
   "source": [
    "### Колонка с тергетом - \"selling price\"\n",
    "\n",
    "X = data.drop(\"selling_price\", axis=1)\n",
    "y = data[\"selling_price\"]\n",
    "\n",
    "### Будем замерять MSLE!\n",
    "### Поэтому прологарифмируем таргет\n",
    "### А после оптимизируем MSE\n",
    "\n",
    "y = y.apply(np.log1p)"
   ]
  },
  {
   "cell_type": "code",
   "execution_count": 4,
   "metadata": {},
   "outputs": [],
   "source": [
    "### Разделим выборку на трейн и тест!\n",
    "### Your code is here\n",
    "from sklearn.model_selection import train_test_split\n",
    "\n",
    "X_train, X_test, y_train, y_test = train_test_split(X, y, test_size=0.2, random_state=1)"
   ]
  },
  {
   "cell_type": "markdown",
   "metadata": {
    "id": "T2Cawl_lyF0Q"
   },
   "source": [
    "__Задание__ \n",
    "\n",
    "Реализуйте свой MeanTargetEncoder с добавленем некоторого шума!\n",
    "\n",
    "Однажды в лекционном материале, обсуждая счетчики, мы говорили с вами о том, что из-за них модели могут переобучаться. Один из способов бороться с этим - валидировать расчеты среднего таргета (стратегия отложенной выборки / расчеты на кросс-валидации). Но есть еще проще!\n",
    "\n",
    "Можно просто к значению счетчика добавить случайный шум (зашумить данные)!\n",
    "\n",
    "Напомним, что рассчитываться новые признаки должны по такой формуле:\n",
    "\n",
    "$$\n",
    "g_j = \\frac{\\sum_{i=1}^{l} [f_j(x) = f_j(x_i)]}{l} + C * \\epsilon\n",
    "$$\n",
    "\n",
    "\n",
    "\n",
    "Пусть шум будет случайной величиной из нормального стандартного распределения, то есть $\\epsilon \\sim N(0, 1) $, а $ C = 0.006$."
   ]
  },
  {
   "cell_type": "markdown",
   "metadata": {
    "id": "DeVJ1WRbyF0R"
   },
   "source": [
    "Создавая свой класс-трансформер, наследуйтесь от классов `BaseEstimator, TransformerMixin` из `sklearn.base`. Трансформер не должен модифицировать передаваемую ему выборку inplace, а все необходимые статистики нужно считать только по обучающей выборке в методе `fit`. Ваш трансформер должен принимать при инициализации список из категориальных признаков и список из числовых признаков. \n",
    "\n",
    "Если для какого-то признака в тестовой выборке отсутствует значение, трансформер должен поставить там 0.\n",
    "\n",
    "На выходе должен получиться датасет того же размера с измененными категориальными признаками."
   ]
  },
  {
   "cell_type": "markdown",
   "metadata": {
    "id": "Yvgr07YgVpkR"
   },
   "source": [
    "Класс MeanTargetEncoderNoise должен иметь следующую сигнатуру:\n",
    "\n"
   ]
  },
  {
   "cell_type": "markdown",
   "metadata": {
    "id": "4s8IjJMbViVS"
   },
   "source": [
    "Разделите колонки на вещественные и категориальные. Приведите все категориальные колонки к типу `object`.\n",
    "\n",
    "Далее применим наш кодировщик к `X_train, X_test`, так же как например мы применяем `StandardScaler`, чтобы проверить работоспособность нашего класса. Установите зерно датчика случайный чисел `np.random.seed(1)`.\n",
    "\n",
    "После того, как вы изменили обучающую и тестовую выборки, сохраните первые 10 строк полученного промежуточного датафрейма обучающей выборки (`X_train`) в файл в формате csv с сепаратором `;`. Не забудьте индекс. Отправьте полученный файл в форму ниже.\n",
    "\n",
    "Список колонок которые должны быть в файле для сдачи:\n",
    "```py\n",
    "cols = [\n",
    "    \"km_driven\",\n",
    "    \"name\",\n",
    "    \"year\",\n",
    "    \"fuel\",\n",
    "    \"seller_type\",\n",
    "    \"transmission\",\n",
    "    \"owner\"\n",
    "]\n",
    "```"
   ]
  },
  {
   "cell_type": "markdown",
   "metadata": {
    "id": "942UEr0bV7yb"
   },
   "source": [
    "### Ваше решение\n"
   ]
  },
  {
   "cell_type": "markdown",
   "metadata": {
    "id": "GLSV8-OrWO6_"
   },
   "source": [
    "Разделение колонок на категориальные и числовые."
   ]
  },
  {
   "cell_type": "code",
   "execution_count": 5,
   "metadata": {
    "id": "jfENggauyF0S"
   },
   "outputs": [
    {
     "data": {
      "text/html": [
       "<div>\n",
       "<style scoped>\n",
       "    .dataframe tbody tr th:only-of-type {\n",
       "        vertical-align: middle;\n",
       "    }\n",
       "\n",
       "    .dataframe tbody tr th {\n",
       "        vertical-align: top;\n",
       "    }\n",
       "\n",
       "    .dataframe thead th {\n",
       "        text-align: right;\n",
       "    }\n",
       "</style>\n",
       "<table border=\"1\" class=\"dataframe\">\n",
       "  <thead>\n",
       "    <tr style=\"text-align: right;\">\n",
       "      <th></th>\n",
       "      <th>name</th>\n",
       "      <th>year</th>\n",
       "      <th>km_driven</th>\n",
       "      <th>fuel</th>\n",
       "      <th>seller_type</th>\n",
       "      <th>transmission</th>\n",
       "      <th>owner</th>\n",
       "    </tr>\n",
       "  </thead>\n",
       "  <tbody>\n",
       "    <tr>\n",
       "      <th>0</th>\n",
       "      <td>Maruti 800 AC</td>\n",
       "      <td>2007</td>\n",
       "      <td>70000</td>\n",
       "      <td>Petrol</td>\n",
       "      <td>Individual</td>\n",
       "      <td>Manual</td>\n",
       "      <td>First Owner</td>\n",
       "    </tr>\n",
       "    <tr>\n",
       "      <th>1</th>\n",
       "      <td>Maruti Wagon R LXI Minor</td>\n",
       "      <td>2007</td>\n",
       "      <td>50000</td>\n",
       "      <td>Petrol</td>\n",
       "      <td>Individual</td>\n",
       "      <td>Manual</td>\n",
       "      <td>First Owner</td>\n",
       "    </tr>\n",
       "    <tr>\n",
       "      <th>2</th>\n",
       "      <td>Hyundai Verna 1.6 SX</td>\n",
       "      <td>2012</td>\n",
       "      <td>100000</td>\n",
       "      <td>Diesel</td>\n",
       "      <td>Individual</td>\n",
       "      <td>Manual</td>\n",
       "      <td>First Owner</td>\n",
       "    </tr>\n",
       "    <tr>\n",
       "      <th>3</th>\n",
       "      <td>Datsun RediGO T Option</td>\n",
       "      <td>2017</td>\n",
       "      <td>46000</td>\n",
       "      <td>Petrol</td>\n",
       "      <td>Individual</td>\n",
       "      <td>Manual</td>\n",
       "      <td>First Owner</td>\n",
       "    </tr>\n",
       "    <tr>\n",
       "      <th>4</th>\n",
       "      <td>Honda Amaze VX i-DTEC</td>\n",
       "      <td>2014</td>\n",
       "      <td>141000</td>\n",
       "      <td>Diesel</td>\n",
       "      <td>Individual</td>\n",
       "      <td>Manual</td>\n",
       "      <td>Second Owner</td>\n",
       "    </tr>\n",
       "  </tbody>\n",
       "</table>\n",
       "</div>"
      ],
      "text/plain": [
       "                       name  year  km_driven    fuel seller_type transmission  \\\n",
       "0             Maruti 800 AC  2007      70000  Petrol  Individual       Manual   \n",
       "1  Maruti Wagon R LXI Minor  2007      50000  Petrol  Individual       Manual   \n",
       "2      Hyundai Verna 1.6 SX  2012     100000  Diesel  Individual       Manual   \n",
       "3    Datsun RediGO T Option  2017      46000  Petrol  Individual       Manual   \n",
       "4     Honda Amaze VX i-DTEC  2014     141000  Diesel  Individual       Manual   \n",
       "\n",
       "          owner  \n",
       "0   First Owner  \n",
       "1   First Owner  \n",
       "2   First Owner  \n",
       "3   First Owner  \n",
       "4  Second Owner  "
      ]
     },
     "execution_count": 5,
     "metadata": {},
     "output_type": "execute_result"
    }
   ],
   "source": [
    "object_cols = ['name', 'year', 'fuel', 'seller_type', 'transmission', 'owner']\n",
    "num_cols = ['km_driven']\n",
    "\n",
    "X.head()"
   ]
  },
  {
   "cell_type": "markdown",
   "metadata": {
    "id": "Vudi3wkzWToS"
   },
   "source": [
    "Реализация класса MeanTargetEncoderNoise."
   ]
  },
  {
   "cell_type": "code",
   "execution_count": 6,
   "metadata": {
    "id": "038NwxXGyF0S"
   },
   "outputs": [],
   "source": [
    "from sklearn.base import BaseEstimator, TransformerMixin\n",
    "\n",
    "class MeanTargetEncoderNoise(BaseEstimator, TransformerMixin):\n",
    "    \n",
    "    def __init__(self, categorical, numeric):\n",
    "        \n",
    "        ### Your code is here\n",
    "        \n",
    "        self.categorical = categorical\n",
    "        self.numeric = numeric\n",
    "    \n",
    "    def fit(self, X, y):\n",
    "        ### Your code is here\n",
    "        \n",
    "        def noisy_mean(x):\n",
    "            return np.mean(x) + 0.006 * np.random.normal()\n",
    "        \n",
    "        self.categorical_counters = X[self.categorical].apply(\n",
    "        lambda col: y.groupby(col).apply(noisy_mean).to_dict()\n",
    "        ).to_dict()\n",
    "        \n",
    "        return self\n",
    "        \n",
    "    def transform(self, df):\n",
    "        ### Your code is here\n",
    "        temp = df.copy()\n",
    "        \n",
    "        for feature, replace_dict in self.categorical_counters.items():\n",
    "            temp.loc[\n",
    "                ~temp[feature].isin(replace_dict.keys()), feature\n",
    "            ] = 0\n",
    "            temp[feature] = temp[feature].replace(replace_dict)\n",
    "        return temp"
   ]
  },
  {
   "cell_type": "markdown",
   "metadata": {
    "id": "SDt0igudWbUE"
   },
   "source": [
    "Проверка работы трансформера."
   ]
  },
  {
   "cell_type": "code",
   "execution_count": 7,
   "metadata": {
    "id": "cQSYkr1WyF0T"
   },
   "outputs": [
    {
     "data": {
      "text/html": [
       "<div>\n",
       "<style scoped>\n",
       "    .dataframe tbody tr th:only-of-type {\n",
       "        vertical-align: middle;\n",
       "    }\n",
       "\n",
       "    .dataframe tbody tr th {\n",
       "        vertical-align: top;\n",
       "    }\n",
       "\n",
       "    .dataframe thead th {\n",
       "        text-align: right;\n",
       "    }\n",
       "</style>\n",
       "<table border=\"1\" class=\"dataframe\">\n",
       "  <thead>\n",
       "    <tr style=\"text-align: right;\">\n",
       "      <th></th>\n",
       "      <th>name</th>\n",
       "      <th>year</th>\n",
       "      <th>km_driven</th>\n",
       "      <th>fuel</th>\n",
       "      <th>seller_type</th>\n",
       "      <th>transmission</th>\n",
       "      <th>owner</th>\n",
       "    </tr>\n",
       "  </thead>\n",
       "  <tbody>\n",
       "    <tr>\n",
       "      <th>3294</th>\n",
       "      <td>13.483692</td>\n",
       "      <td>13.436559</td>\n",
       "      <td>50000</td>\n",
       "      <td>13.093756</td>\n",
       "      <td>12.615863</td>\n",
       "      <td>13.771135</td>\n",
       "      <td>12.977730</td>\n",
       "    </tr>\n",
       "    <tr>\n",
       "      <th>2290</th>\n",
       "      <td>12.117029</td>\n",
       "      <td>11.903115</td>\n",
       "      <td>70000</td>\n",
       "      <td>12.453832</td>\n",
       "      <td>12.615863</td>\n",
       "      <td>13.771135</td>\n",
       "      <td>12.977730</td>\n",
       "    </tr>\n",
       "    <tr>\n",
       "      <th>874</th>\n",
       "      <td>12.310456</td>\n",
       "      <td>13.328864</td>\n",
       "      <td>50000</td>\n",
       "      <td>12.453832</td>\n",
       "      <td>12.615863</td>\n",
       "      <td>12.639805</td>\n",
       "      <td>12.977730</td>\n",
       "    </tr>\n",
       "    <tr>\n",
       "      <th>1907</th>\n",
       "      <td>12.491443</td>\n",
       "      <td>13.042359</td>\n",
       "      <td>92198</td>\n",
       "      <td>12.453832</td>\n",
       "      <td>13.152824</td>\n",
       "      <td>12.639805</td>\n",
       "      <td>12.463313</td>\n",
       "    </tr>\n",
       "    <tr>\n",
       "      <th>3244</th>\n",
       "      <td>12.390906</td>\n",
       "      <td>12.870886</td>\n",
       "      <td>3240</td>\n",
       "      <td>12.453832</td>\n",
       "      <td>12.615863</td>\n",
       "      <td>12.639805</td>\n",
       "      <td>12.463313</td>\n",
       "    </tr>\n",
       "    <tr>\n",
       "      <th>1089</th>\n",
       "      <td>12.687432</td>\n",
       "      <td>13.436559</td>\n",
       "      <td>10000</td>\n",
       "      <td>12.453832</td>\n",
       "      <td>13.152824</td>\n",
       "      <td>12.639805</td>\n",
       "      <td>12.977730</td>\n",
       "    </tr>\n",
       "    <tr>\n",
       "      <th>3902</th>\n",
       "      <td>11.698702</td>\n",
       "      <td>11.503504</td>\n",
       "      <td>90000</td>\n",
       "      <td>12.453832</td>\n",
       "      <td>12.615863</td>\n",
       "      <td>12.639805</td>\n",
       "      <td>11.878390</td>\n",
       "    </tr>\n",
       "    <tr>\n",
       "      <th>2215</th>\n",
       "      <td>11.120678</td>\n",
       "      <td>11.503504</td>\n",
       "      <td>79000</td>\n",
       "      <td>12.453832</td>\n",
       "      <td>12.615863</td>\n",
       "      <td>12.639805</td>\n",
       "      <td>12.463313</td>\n",
       "    </tr>\n",
       "    <tr>\n",
       "      <th>3862</th>\n",
       "      <td>13.172879</td>\n",
       "      <td>13.328864</td>\n",
       "      <td>99700</td>\n",
       "      <td>13.093756</td>\n",
       "      <td>12.615863</td>\n",
       "      <td>12.639805</td>\n",
       "      <td>12.977730</td>\n",
       "    </tr>\n",
       "    <tr>\n",
       "      <th>705</th>\n",
       "      <td>13.004194</td>\n",
       "      <td>12.241213</td>\n",
       "      <td>124000</td>\n",
       "      <td>13.093756</td>\n",
       "      <td>12.615863</td>\n",
       "      <td>12.639805</td>\n",
       "      <td>12.463313</td>\n",
       "    </tr>\n",
       "  </tbody>\n",
       "</table>\n",
       "</div>"
      ],
      "text/plain": [
       "           name       year  km_driven       fuel  seller_type  transmission  \\\n",
       "3294  13.483692  13.436559      50000  13.093756    12.615863     13.771135   \n",
       "2290  12.117029  11.903115      70000  12.453832    12.615863     13.771135   \n",
       "874   12.310456  13.328864      50000  12.453832    12.615863     12.639805   \n",
       "1907  12.491443  13.042359      92198  12.453832    13.152824     12.639805   \n",
       "3244  12.390906  12.870886       3240  12.453832    12.615863     12.639805   \n",
       "1089  12.687432  13.436559      10000  12.453832    13.152824     12.639805   \n",
       "3902  11.698702  11.503504      90000  12.453832    12.615863     12.639805   \n",
       "2215  11.120678  11.503504      79000  12.453832    12.615863     12.639805   \n",
       "3862  13.172879  13.328864      99700  13.093756    12.615863     12.639805   \n",
       "705   13.004194  12.241213     124000  13.093756    12.615863     12.639805   \n",
       "\n",
       "          owner  \n",
       "3294  12.977730  \n",
       "2290  12.977730  \n",
       "874   12.977730  \n",
       "1907  12.463313  \n",
       "3244  12.463313  \n",
       "1089  12.977730  \n",
       "3902  11.878390  \n",
       "2215  12.463313  \n",
       "3862  12.977730  \n",
       "705   12.463313  "
      ]
     },
     "execution_count": 7,
     "metadata": {},
     "output_type": "execute_result"
    }
   ],
   "source": [
    "np.random.seed(1)\n",
    "transformer = MeanTargetEncoderNoise(categorical=object_cols, numeric=num_cols)\n",
    "\n",
    "transformer.fit(X_train, y_train)\n",
    "\n",
    "train = transformer.transform(X_train)\n",
    "test = transformer.transform(X_test)\n",
    "\n",
    "train.head(10)"
   ]
  },
  {
   "cell_type": "code",
   "execution_count": 8,
   "metadata": {},
   "outputs": [],
   "source": [
    "train.head(10).to_csv('5.csv', sep=';', index=False)"
   ]
  },
  {
   "cell_type": "markdown",
   "metadata": {
    "id": "-9cgA3knyF0U"
   },
   "source": [
    "Обучите несколько деревьев, перебирая максимальную глубину алгоритма из списка `max_depth_list`, а остальные параметры оставьте дефолтными. Выведите лучшее значение гиперпараметра. Постройте график зависимости MSLE на тестовой выборке от значения гиперпараметра. Воспользуйтесь `Pipeline` без `GridSearch`. Проделайте то же самое с `min_samples_split`, `min_impurity_decrease`, `max_leaf_nodes`. (по 2б на каждый параметр)"
   ]
  },
  {
   "cell_type": "code",
   "execution_count": 9,
   "metadata": {
    "id": "VQCYxECdyF0U"
   },
   "outputs": [],
   "source": [
    "max_depth_list = [3, 5, 8, 12]\n",
    "min_samples_split_list = [10, 50, 100, 500]\n",
    "min_impurity_decrease_list = [0, 0.1, 0.15, 0.2]\n",
    "max_leaf_nodes_list = [100, 200, 500]"
   ]
  },
  {
   "cell_type": "code",
   "execution_count": 10,
   "metadata": {
    "id": "rRRl1cBayF0U"
   },
   "outputs": [
    {
     "name": "stdout",
     "output_type": "stream",
     "text": [
      "depth: {3: 0.798, 5: 1.441, 8: 1.988, 12: 1.983}\n",
      "split: {10: 1.433, 50: 1.438, 100: 0.952, 500: 0.808}\n",
      "leaf: {100: 1.989, 200: 1.983, 500: 1.985}\n",
      "decrease: {0: 1.985, 0.1: 0.521, 0.15: 0.52, 0.2: 0.52}\n",
      "\n"
     ]
    }
   ],
   "source": [
    "from sklearn.metrics import mean_squared_error as mse\n",
    "from sklearn.tree import DecisionTreeRegressor\n",
    "from sklearn.pipeline import Pipeline\n",
    "\n",
    "np.random.seed(1)\n",
    "\n",
    "### Your code is here\n",
    "\n",
    "### Найдем лучшую глубину \n",
    "rmse_depth = {}\n",
    "\n",
    "for max_depth in max_depth_list:\n",
    "    pipe = Pipeline([('transformer', MeanTargetEncoderNoise(categorical=object_cols, numeric=num_cols)),\n",
    "    ('tree', DecisionTreeRegressor(max_depth=max_depth))])\n",
    "    \n",
    "    pipe.fit(X_train, y_train)\n",
    "    \n",
    "    preds = pipe.predict(X_test)\n",
    "    \n",
    "    rmse_depth[max_depth] = round(mse(preds, y_test, squared=True), 3)\n",
    "    \n",
    "    \n",
    "### Найдем лучшее минимальное количество объектов в вершине\n",
    "rmse_split = {}\n",
    "for split in min_samples_split_list:\n",
    "    pipe = Pipeline([('transformer', MeanTargetEncoderNoise(categorical=object_cols, numeric=num_cols)),\n",
    "    ('tree', DecisionTreeRegressor(min_samples_split=split))])\n",
    "    \n",
    "    pipe.fit(X_train, y_train)\n",
    "    \n",
    "    preds = pipe.predict(X_test)\n",
    "    \n",
    "    rmse_split[split] = round(mse(preds, y_test, squared=True), 3)\n",
    "\n",
    "### Найдем лучшее максимальное количество листьев\n",
    "rmse_leaf = {}\n",
    "for leaf in max_leaf_nodes_list:\n",
    "    pipe = Pipeline([('transformer', MeanTargetEncoderNoise(categorical=object_cols, numeric=num_cols)),\n",
    "    ('tree', DecisionTreeRegressor(max_leaf_nodes=leaf))])\n",
    "    \n",
    "    pipe.fit(X_train, y_train)\n",
    "    \n",
    "    preds = pipe.predict(X_test)\n",
    "    \n",
    "    rmse_leaf[leaf] = round(mse(preds, y_test, squared=True), 3)\n",
    "\n",
    "\n",
    "### Найдем лучшее минимальное улучшения критерия качества \n",
    "rmse_decrease = {}\n",
    "\n",
    "for decrease in min_impurity_decrease_list:\n",
    "    pipe = Pipeline([('transformer', MeanTargetEncoderNoise(categorical=object_cols, numeric=num_cols)),\n",
    "    ('tree', DecisionTreeRegressor(min_impurity_decrease=decrease))])\n",
    "    \n",
    "    pipe.fit(X_train, y_train)\n",
    "    \n",
    "    preds = pipe.predict(X_test)\n",
    "    \n",
    "    rmse_decrease[decrease] = round(mse(preds, y_test, squared=True), 3)\n",
    "    \n",
    "print(f'''depth: {rmse_depth}\n",
    "split: {rmse_split}\n",
    "leaf: {rmse_leaf}\n",
    "decrease: {rmse_decrease}\n",
    "''')"
   ]
  },
  {
   "cell_type": "markdown",
   "metadata": {},
   "source": [
    "Изобразим результаты качества в зависимости от изменения отдельных параметров"
   ]
  },
  {
   "cell_type": "code",
   "execution_count": 11,
   "metadata": {},
   "outputs": [
    {
     "data": {
      "image/png": "[encoded data removed]",
      "text/plain": [
       "<Figure size 640x480 with 1 Axes>"
      ]
     },
     "metadata": {},
     "output_type": "display_data"
    }
   ],
   "source": [
    "plt.plot(max_depth_list, rmse_depth.values())\n",
    "plt.title('msle от max_depth')\n",
    "plt.xlabel('max_depth')\n",
    "plt.ylabel('rmse');"
   ]
  },
  {
   "cell_type": "code",
   "execution_count": 12,
   "metadata": {},
   "outputs": [
    {
     "data": {
      "image/png": "[encoded data removed]",
      "text/plain": [
       "<Figure size 640x480 with 1 Axes>"
      ]
     },
     "metadata": {},
     "output_type": "display_data"
    }
   ],
   "source": [
    "plt.plot(min_samples_split_list, rmse_split.values())\n",
    "plt.title('msle от min_samples_split')\n",
    "plt.xlabel('min_samples_split')\n",
    "plt.ylabel('rmse');"
   ]
  },
  {
   "cell_type": "code",
   "execution_count": 13,
   "metadata": {},
   "outputs": [
    {
     "data": {
      "image/png": "[encoded data removed]",
      "text/plain": [
       "<Figure size 640x480 with 1 Axes>"
      ]
     },
     "metadata": {},
     "output_type": "display_data"
    }
   ],
   "source": [
    "plt.plot(max_leaf_nodes_list, rmse_leaf.values())\n",
    "plt.title('msle от max_leaf_nodes')\n",
    "plt.xlabel('max_leaf_nodes')\n",
    "plt.ylabel('rmse');"
   ]
  },
  {
   "cell_type": "code",
   "execution_count": 14,
   "metadata": {},
   "outputs": [
    {
     "data": {
      "image/png": "[encoded data removed]",
      "text/plain": [
       "<Figure size 640x480 with 1 Axes>"
      ]
     },
     "metadata": {},
     "output_type": "display_data"
    }
   ],
   "source": [
    "plt.plot(min_impurity_decrease_list, rmse_decrease.values())\n",
    "plt.title('msle от min_impurity_decrease')\n",
    "plt.xlabel('min_impurity_decrease')\n",
    "plt.ylabel('rmse');"
   ]
  },
  {
   "cell_type": "markdown",
   "metadata": {
    "id": "TBkYnUa7yF0V"
   },
   "source": [
    "Подберите лучшую комбинацию параметров, используя `GridSearchCV` и набор массивов значений параметров из предыдущего задания. Для лучшей комбинации посчитайте MSLE на тестовой выборке. Получились ли лучшие параметры такими же, как если бы вы подбирали их по-отдельности при остальных гиперпараметрах по умолчанию (предыдущее задание)? (2б)"
   ]
  },
  {
   "cell_type": "code",
   "execution_count": 15,
   "metadata": {
    "collapsed": true,
    "id": "CnUu33ojyF0V"
   },
   "outputs": [
    {
     "data": {
      "text/html": [
       "<style>#sk-container-id-1 {color: black;}#sk-container-id-1 pre{padding: 0;}#sk-container-id-1 div.sk-toggleable {background-color: white;}#sk-container-id-1 label.sk-toggleable__label {cursor: pointer;display: block;width: 100%;margin-bottom: 0;padding: 0.3em;box-sizing: border-box;text-align: center;}#sk-container-id-1 label.sk-toggleable__label-arrow:before {content: \"▸\";float: left;margin-right: 0.25em;color: #696969;}#sk-container-id-1 label.sk-toggleable__label-arrow:hover:before {color: black;}#sk-container-id-1 div.sk-estimator:hover label.sk-toggleable__label-arrow:before {color: black;}#sk-container-id-1 div.sk-toggleable__content {max-height: 0;max-width: 0;overflow: hidden;text-align: left;background-color: #f0f8ff;}#sk-container-id-1 div.sk-toggleable__content pre {margin: 0.2em;color: black;border-radius: 0.25em;background-color: #f0f8ff;}#sk-container-id-1 input.sk-toggleable__control:checked~div.sk-toggleable__content {max-height: 200px;max-width: 100%;overflow: auto;}#sk-container-id-1 input.sk-toggleable__control:checked~label.sk-toggleable__label-arrow:before {content: \"▾\";}#sk-container-id-1 div.sk-estimator input.sk-toggleable__control:checked~label.sk-toggleable__label {background-color: #d4ebff;}#sk-container-id-1 div.sk-label input.sk-toggleable__control:checked~label.sk-toggleable__label {background-color: #d4ebff;}#sk-container-id-1 input.sk-hidden--visually {border: 0;clip: rect(1px 1px 1px 1px);clip: rect(1px, 1px, 1px, 1px);height: 1px;margin: -1px;overflow: hidden;padding: 0;position: absolute;width: 1px;}#sk-container-id-1 div.sk-estimator {font-family: monospace;background-color: #f0f8ff;border: 1px dotted black;border-radius: 0.25em;box-sizing: border-box;margin-bottom: 0.5em;}#sk-container-id-1 div.sk-estimator:hover {background-color: #d4ebff;}#sk-container-id-1 div.sk-parallel-item::after {content: \"\";width: 100%;border-bottom: 1px solid gray;flex-grow: 1;}#sk-container-id-1 div.sk-label:hover label.sk-toggleable__label {background-color: #d4ebff;}#sk-container-id-1 div.sk-serial::before {content: \"\";position: absolute;border-left: 1px solid gray;box-sizing: border-box;top: 0;bottom: 0;left: 50%;z-index: 0;}#sk-container-id-1 div.sk-serial {display: flex;flex-direction: column;align-items: center;background-color: white;padding-right: 0.2em;padding-left: 0.2em;position: relative;}#sk-container-id-1 div.sk-item {position: relative;z-index: 1;}#sk-container-id-1 div.sk-parallel {display: flex;align-items: stretch;justify-content: center;background-color: white;position: relative;}#sk-container-id-1 div.sk-item::before, #sk-container-id-1 div.sk-parallel-item::before {content: \"\";position: absolute;border-left: 1px solid gray;box-sizing: border-box;top: 0;bottom: 0;left: 50%;z-index: -1;}#sk-container-id-1 div.sk-parallel-item {display: flex;flex-direction: column;z-index: 1;position: relative;background-color: white;}#sk-container-id-1 div.sk-parallel-item:first-child::after {align-self: flex-end;width: 50%;}#sk-container-id-1 div.sk-parallel-item:last-child::after {align-self: flex-start;width: 50%;}#sk-container-id-1 div.sk-parallel-item:only-child::after {width: 0;}#sk-container-id-1 div.sk-dashed-wrapped {border: 1px dashed gray;margin: 0 0.4em 0.5em 0.4em;box-sizing: border-box;padding-bottom: 0.4em;background-color: white;}#sk-container-id-1 div.sk-label label {font-family: monospace;font-weight: bold;display: inline-block;line-height: 1.2em;}#sk-container-id-1 div.sk-label-container {text-align: center;}#sk-container-id-1 div.sk-container {/* jupyter's `normalize.less` sets `[hidden] { display: none; }` but bootstrap.min.css set `[hidden] { display: none !important; }` so we also need the `!important` here to be able to override the default hidden behavior on the sphinx rendered scikit-learn.org. See: https://github.com/scikit-learn/scikit-learn/issues/21755 */display: inline-block !important;position: relative;}#sk-container-id-1 div.sk-text-repr-fallback {display: none;}</style><div id=\"sk-container-id-1\" class=\"sk-top-container\"><div class=\"sk-text-repr-fallback\"><pre>GridSearchCV(cv=4,\n",
       "             estimator=Pipeline(steps=[(&#x27;transformer&#x27;,\n",
       "                                        MeanTargetEncoderNoise(categorical=[&#x27;name&#x27;,\n",
       "                                                                            &#x27;year&#x27;,\n",
       "                                                                            &#x27;fuel&#x27;,\n",
       "                                                                            &#x27;seller_type&#x27;,\n",
       "                                                                            &#x27;transmission&#x27;,\n",
       "                                                                            &#x27;owner&#x27;],\n",
       "                                                               numeric=[&#x27;km_driven&#x27;])),\n",
       "                                       (&#x27;decision_tree&#x27;,\n",
       "                                        DecisionTreeRegressor())]),\n",
       "             param_grid={&#x27;decision_tree__max_depth&#x27;: [3, 5, 8, 12],\n",
       "                         &#x27;decision_tree__max_leaf_nodes&#x27;: [100, 200, 500],\n",
       "                         &#x27;decision_tree__min_impurity_decrease&#x27;: [0, 0.1, 0.15,\n",
       "                                                                  0.2],\n",
       "                         &#x27;decision_tree__min_samples_split&#x27;: [10, 50, 100,\n",
       "                                                              500]},\n",
       "             scoring=&#x27;neg_mean_squared_error&#x27;)</pre><b>In a Jupyter environment, please rerun this cell to show the HTML representation or trust the notebook. <br />On GitHub, the HTML representation is unable to render, please try loading this page with nbviewer.org.</b></div><div class=\"sk-container\" hidden><div class=\"sk-item sk-dashed-wrapped\"><div class=\"sk-label-container\"><div class=\"sk-label sk-toggleable\"><input class=\"sk-toggleable__control sk-hidden--visually\" id=\"sk-estimator-id-1\" type=\"checkbox\" ><label for=\"sk-estimator-id-1\" class=\"sk-toggleable__label sk-toggleable__label-arrow\">GridSearchCV</label><div class=\"sk-toggleable__content\"><pre>GridSearchCV(cv=4,\n",
       "             estimator=Pipeline(steps=[(&#x27;transformer&#x27;,\n",
       "                                        MeanTargetEncoderNoise(categorical=[&#x27;name&#x27;,\n",
       "                                                                            &#x27;year&#x27;,\n",
       "                                                                            &#x27;fuel&#x27;,\n",
       "                                                                            &#x27;seller_type&#x27;,\n",
       "                                                                            &#x27;transmission&#x27;,\n",
       "                                                                            &#x27;owner&#x27;],\n",
       "                                                               numeric=[&#x27;km_driven&#x27;])),\n",
       "                                       (&#x27;decision_tree&#x27;,\n",
       "                                        DecisionTreeRegressor())]),\n",
       "             param_grid={&#x27;decision_tree__max_depth&#x27;: [3, 5, 8, 12],\n",
       "                         &#x27;decision_tree__max_leaf_nodes&#x27;: [100, 200, 500],\n",
       "                         &#x27;decision_tree__min_impurity_decrease&#x27;: [0, 0.1, 0.15,\n",
       "                                                                  0.2],\n",
       "                         &#x27;decision_tree__min_samples_split&#x27;: [10, 50, 100,\n",
       "                                                              500]},\n",
       "             scoring=&#x27;neg_mean_squared_error&#x27;)</pre></div></div></div><div class=\"sk-parallel\"><div class=\"sk-parallel-item\"><div class=\"sk-item\"><div class=\"sk-label-container\"><div class=\"sk-label sk-toggleable\"><input class=\"sk-toggleable__control sk-hidden--visually\" id=\"sk-estimator-id-2\" type=\"checkbox\" ><label for=\"sk-estimator-id-2\" class=\"sk-toggleable__label sk-toggleable__label-arrow\">estimator: Pipeline</label><div class=\"sk-toggleable__content\"><pre>Pipeline(steps=[(&#x27;transformer&#x27;,\n",
       "                 MeanTargetEncoderNoise(categorical=[&#x27;name&#x27;, &#x27;year&#x27;, &#x27;fuel&#x27;,\n",
       "                                                     &#x27;seller_type&#x27;,\n",
       "                                                     &#x27;transmission&#x27;, &#x27;owner&#x27;],\n",
       "                                        numeric=[&#x27;km_driven&#x27;])),\n",
       "                (&#x27;decision_tree&#x27;, DecisionTreeRegressor())])</pre></div></div></div><div class=\"sk-serial\"><div class=\"sk-item\"><div class=\"sk-serial\"><div class=\"sk-item\"><div class=\"sk-estimator sk-toggleable\"><input class=\"sk-toggleable__control sk-hidden--visually\" id=\"sk-estimator-id-3\" type=\"checkbox\" ><label for=\"sk-estimator-id-3\" class=\"sk-toggleable__label sk-toggleable__label-arrow\">MeanTargetEncoderNoise</label><div class=\"sk-toggleable__content\"><pre>MeanTargetEncoderNoise(categorical=[&#x27;name&#x27;, &#x27;year&#x27;, &#x27;fuel&#x27;, &#x27;seller_type&#x27;,\n",
       "                                    &#x27;transmission&#x27;, &#x27;owner&#x27;],\n",
       "                       numeric=[&#x27;km_driven&#x27;])</pre></div></div></div><div class=\"sk-item\"><div class=\"sk-estimator sk-toggleable\"><input class=\"sk-toggleable__control sk-hidden--visually\" id=\"sk-estimator-id-4\" type=\"checkbox\" ><label for=\"sk-estimator-id-4\" class=\"sk-toggleable__label sk-toggleable__label-arrow\">DecisionTreeRegressor</label><div class=\"sk-toggleable__content\"><pre>DecisionTreeRegressor()</pre></div></div></div></div></div></div></div></div></div></div></div></div>"
      ],
      "text/plain": [
       "GridSearchCV(cv=4,\n",
       "             estimator=Pipeline(steps=[('transformer',\n",
       "                                        MeanTargetEncoderNoise(categorical=['name',\n",
       "                                                                            'year',\n",
       "                                                                            'fuel',\n",
       "                                                                            'seller_type',\n",
       "                                                                            'transmission',\n",
       "                                                                            'owner'],\n",
       "                                                               numeric=['km_driven'])),\n",
       "                                       ('decision_tree',\n",
       "                                        DecisionTreeRegressor())]),\n",
       "             param_grid={'decision_tree__max_depth': [3, 5, 8, 12],\n",
       "                         'decision_tree__max_leaf_nodes': [100, 200, 500],\n",
       "                         'decision_tree__min_impurity_decrease': [0, 0.1, 0.15,\n",
       "                                                                  0.2],\n",
       "                         'decision_tree__min_samples_split': [10, 50, 100,\n",
       "                                                              500]},\n",
       "             scoring='neg_mean_squared_error')"
      ]
     },
     "execution_count": 15,
     "metadata": {},
     "output_type": "execute_result"
    }
   ],
   "source": [
    "from sklearn.model_selection import GridSearchCV\n",
    "\n",
    "param_grid = {\n",
    "    \"decision_tree__max_depth\": [3, 5, 8, 12],\n",
    "    \"decision_tree__min_samples_split\": [10, 50, 100, 500],\n",
    "    \"decision_tree__min_impurity_decrease\": [0, 0.1, 0.15, 0.2],\n",
    "    \"decision_tree__max_leaf_nodes\": [100, 200, 500]\n",
    "}\n",
    "np.random.seed(1)\n",
    "\n",
    "### Your code is here\n",
    "\n",
    "pipe = Pipeline([('transformer', MeanTargetEncoderNoise(categorical=object_cols, numeric=num_cols)),\n",
    "    ('decision_tree', DecisionTreeRegressor())])\n",
    "\n",
    "grid = GridSearchCV(pipe, \n",
    "                   param_grid,\n",
    "                   cv=4,\n",
    "                   scoring='neg_mean_squared_error')\n",
    "\n",
    "grid.fit(X_train, y_train)"
   ]
  },
  {
   "cell_type": "code",
   "execution_count": 16,
   "metadata": {},
   "outputs": [
    {
     "data": {
      "text/plain": [
       "0.5197845418970932"
      ]
     },
     "execution_count": 16,
     "metadata": {},
     "output_type": "execute_result"
    }
   ],
   "source": [
    "### Замерим MSE на лучшей модели\n",
    "\n",
    "mse(grid.best_estimator_.predict(X_test), y_test, squared=True)"
   ]
  }
 ],
 "metadata": {
  "colab": {
   "provenance": []
  },
  "interpreter": {
   "hash": "8db21564b35bbdf2f1295d2e540489014671416f5dc577a5b9d4ca56833a3713"
  },
  "kernelspec": {
   "display_name": "Python 3 (ipykernel)",
   "language": "python",
   "name": "python3"
  },
  "language_info": {
   "codemirror_mode": {
    "name": "ipython",
    "version": 3
   },
   "file_extension": ".py",
   "mimetype": "text/x-python",
   "name": "python",
   "nbconvert_exporter": "python",
   "pygments_lexer": "ipython3",
   "version": "3.11.4"
  }
 },
 "nbformat": 4,
 "nbformat_minor": 1
}
