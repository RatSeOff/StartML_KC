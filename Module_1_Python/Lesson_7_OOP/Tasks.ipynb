{
 "cells": [
  {
   "cell_type": "markdown",
   "id": "a9f99ea0",
   "metadata": {},
   "source": [
    "## Задания\n",
    "### №1\n",
    "Напишите класс Triangle, который будет иметь 3 поля: a, b, c (стороны треугольника) и n_dots = 3 (количество точек). Поле n_dots объявите на уровне класса, не в конструкторе — чтобы оно было доступно без создания объекта (т.е. работал вызов Triangle.n_dots). Добавьте в класс простой конструктор, принимающий на вход все три стороны и сохраняющий эти стороны в соответсвующие поля класса.\n",
    "\n",
    "Создайте объекты этого класса со следующими названиями: tr_1, tr_2 и любыми значениями длин сторон.\n",
    "\n",
    "### №2\n",
    "Возьмите класс Triangle из предыдущего задания и добавьте метод area(), возвращающий площадь треугольника. Напомним, что при известных трех сторонах площадь треугольника можно подсчитать по формуле Герона. Подумайте, как можно организовать код так, чтобы p считалась один раз.\n",
    "\n",
    "Затем поменяйте конструктор: он должен проверять, что выполнено неравенство треугольника - каждая сторона меньше  суммы двух других. Если это условие не выполнено, выбрасывайте ValueError с текстом \"triangle inequality does not hold\" (передайте эту строку в конструктор ValueError).\n",
    "\n",
    "Наконец, создайте два объекта данного класса с названиями tr_1 и tr_2 , в которых соблюдается неравенство треугольника. Также, сохраните в переменные square_1 и square_2 результаты вызовов методов .area() для объектов tr_1 и tr_2 соответственно."
   ]
  },
  {
   "cell_type": "code",
   "execution_count": 1,
   "id": "77f567a9",
   "metadata": {},
   "outputs": [],
   "source": [
    "class Triangle():\n",
    "    def __init__(self, a, b, c):\n",
    "        self.a = a\n",
    "        self.b = b\n",
    "        self.c = c\n",
    "        if a >= b+c or b >= a+c or c >= a+b:\n",
    "            raise ValueError('triangle inequality does not hold')\n",
    "    n_dots = 3\n",
    "    def area(self):\n",
    "        a = self.a\n",
    "        b = self.b\n",
    "        c = self.c\n",
    "        p = (a+b+c)/2\n",
    "        return (p*(p-a)*(p-b)*(p-c))**0.5\n",
    "tr_1 = Triangle(2,3,4)\n",
    "tr_2 = Triangle(4,5,6)\n",
    "square_1 = tr_1.area()\n",
    "square_2 = tr_2.area()"
   ]
  },
  {
   "cell_type": "markdown",
   "id": "669b12c8",
   "metadata": {},
   "source": [
    "## Задания\n",
    "### №3\n",
    "Создайте класс Rectangle (прямоугольник), который будет наследоваться от класса Triangle. Сделайте так, чтобы area(), конструктор и поле n_dots были верными. А именно:\n",
    "\n",
    "Конструктор должен принимать 2 стороны: a, b\n",
    "area() должен считать площадь как произведение смежных сторон: S=ab\n",
    "Неравенство треугольника не нужно проверять.\n",
    "n_dots должен быть объявлен на уровне класса и равняться 4."
   ]
  },
  {
   "cell_type": "code",
   "execution_count": 2,
   "id": "b9dcfe73",
   "metadata": {},
   "outputs": [],
   "source": [
    "class Rectangle(Triangle):\n",
    "    def __init__(self, a, b):\n",
    "        self.a = a\n",
    "        self.b = b\n",
    "    n_dots = 4\n",
    "    def area(self):\n",
    "        return self.a*self.b"
   ]
  },
  {
   "cell_type": "markdown",
   "id": "518a0937",
   "metadata": {},
   "source": [
    "## Задания\n",
    "### №4\n",
    "Напишите класс BaseFigure, который имеет поле класса (т.е. на уровне класса) n_dots = None, метод area() \"без реализации\", метод validate() \"без реализации\". Сделайте так, чтобы методы \"без реализации\" выбрасывали исключение NotImplementedError при их вызове и ничего другого не делали. Создайте также конструктор класса, который не принимает дополнительных аргументов и в реализации только лишь вызывает self.validate()."
   ]
  },
  {
   "cell_type": "code",
   "execution_count": 3,
   "id": "cc3fe81d",
   "metadata": {},
   "outputs": [],
   "source": [
    "class BaseFigure():\n",
    "    n_dots = None\n",
    "    def area(self):\n",
    "        raise NotImplementedError()\n",
    "    def validate(self):\n",
    "        raise NotImplementedError()\n",
    "    def __init__(self):\n",
    "        self.validate()"
   ]
  },
  {
   "cell_type": "markdown",
   "id": "b4a137dc",
   "metadata": {},
   "source": [
    "## Задания\n",
    "### №5\n",
    "Перепишите классы Triangle, Rectangle так, чтобы они наследовались от BaseFigure. Затем уберите реализацию всех методов и конструкторов в классах-потомках.\n",
    "### №6\n",
    "Возьмите классы Triangle и Rectangle из прошлого задания.\n",
    "\n",
    "Переопределите метод area в каждом случае.\n",
    "Переопределите конструктор в каждом случае (число аргументов тоже меняется). Не забудьте в конструкторе дочернего класса вызвать конструктор родительского класса!\n",
    "Переопределите метод validate в каждом случае. Метод validate должен принимать только аргумент self и использовать созданные в конструкторе переменные. Для этого вы можете сначала сохранять в конструкторе входные данные в self.переменная, а затем вызывать конструктор суперкласса. Для Triangle данный метод должен проверять неравенство треугольника и выбрасывать ошибку ValueError(\"triangle inequality does not hold\") либо возвращать значения сторон. Для Rectangle данный метод должен возвращать значения сторон."
   ]
  },
  {
   "cell_type": "code",
   "execution_count": 4,
   "id": "2f0f15f5",
   "metadata": {},
   "outputs": [],
   "source": [
    "class Triangle(BaseFigure):\n",
    "    n_dots = 3\n",
    "    def __init__(self, a, b, c):\n",
    "        self.a = a\n",
    "        self.b = b\n",
    "        self.c = c\n",
    "        super().__init__()\n",
    "    def validate(self):\n",
    "        a = self.a\n",
    "        b = self.b\n",
    "        c = self.c\n",
    "        if a >= b+c or b >= a+c or c >= a+b:\n",
    "            raise ValueError('triangle inequality does not hold')\n",
    "    def area(self):\n",
    "        a = self.a\n",
    "        b = self.b\n",
    "        c = self.c\n",
    "        p = (a+b+c)/2\n",
    "        return (p*(p-a)*(p-b)*(p-c))**0.5\n",
    "        \n",
    "        \n",
    "        \n",
    "        \n",
    "class Rectangle(BaseFigure):\n",
    "    n_dots = 4\n",
    "    def __init__(self, a, b):\n",
    "        self.a = a\n",
    "        self.b = b\n",
    "        super().__init__()\n",
    "    def validate(self):\n",
    "        a = self.a\n",
    "        b = self.b\n",
    "        return a, b\n",
    "    def area(self):\n",
    "        a = self.a\n",
    "        b = self.b\n",
    "        return a*b       "
   ]
  },
  {
   "cell_type": "code",
   "execution_count": 5,
   "id": "94de03a1",
   "metadata": {},
   "outputs": [
    {
     "data": {
      "text/plain": [
       "2.9047375096555625"
      ]
     },
     "execution_count": 5,
     "metadata": {},
     "output_type": "execute_result"
    }
   ],
   "source": [
    "Triangle(2,3,4).area()"
   ]
  },
  {
   "cell_type": "code",
   "execution_count": 6,
   "id": "aa2b142c",
   "metadata": {},
   "outputs": [
    {
     "data": {
      "text/plain": [
       "8"
      ]
     },
     "execution_count": 6,
     "metadata": {},
     "output_type": "execute_result"
    }
   ],
   "source": [
    "Rectangle(2,4).area()"
   ]
  },
  {
   "cell_type": "markdown",
   "id": "574ce7f5",
   "metadata": {},
   "source": [
    "## Задания\n",
    "### №7\n",
    "Напишите класс Circle, в котором в качестве n_dots будет float('inf'), area будет считаться как 3.14 * r^2, а конструктор будет принимать только один аргумент - r. Метод validate не должен принимать никаких аргументов и не должен осуществлять никаких проверок."
   ]
  },
  {
   "cell_type": "code",
   "execution_count": 7,
   "id": "b34e73f3",
   "metadata": {},
   "outputs": [],
   "source": [
    "class Circle(BaseFigure):\n",
    "    n_dots = float('inf')\n",
    "    def area(self):\n",
    "        return 3.14*self.r**2\n",
    "    def __init__(self, r):\n",
    "        self.r = r\n",
    "        super().__init__()\n",
    "    def validate(self):\n",
    "        pass"
   ]
  },
  {
   "cell_type": "code",
   "execution_count": 8,
   "id": "d3c35c43",
   "metadata": {},
   "outputs": [
    {
     "data": {
      "text/plain": [
       "3.14"
      ]
     },
     "execution_count": 8,
     "metadata": {},
     "output_type": "execute_result"
    }
   ],
   "source": [
    "Circle(1).area()"
   ]
  },
  {
   "cell_type": "markdown",
   "id": "b88268bd",
   "metadata": {},
   "source": [
    "## Задания\n",
    "### №8\n",
    "Напишите класс Vector, который на вход будет принимать список координат (x \n",
    "1\n",
    " ,…,x \n",
    "n\n",
    " ). Положите все координаты вектора в список self.coords.\n",
    "\n",
    "Добейтесь того, чтобы объекты класса Vector можно было складывать через оператор + и получать на выходе тоже объект этого же класса.\n",
    "\n",
    "### №9\n",
    "Добавьте методу красивый вывод при передаче его в print(...)\n",
    "\n",
    "\n",
    "### №10\n",
    "Добавьте в класс возможность умножать вектор на вектор и вектор на число. Не забудьте сохранять координаты вектора в self.coords.\n",
    "\n",
    "### №11\n",
    "Добавьте в класс возможности сравнивать два вектора между собой и считать abs (это длина вектора, в Евклидовой метрике)."
   ]
  },
  {
   "cell_type": "code",
   "execution_count": 9,
   "id": "3fd3cfd1",
   "metadata": {},
   "outputs": [],
   "source": [
    "class Vector():\n",
    "    def __init__(self, coords):\n",
    "        self.coords = coords\n",
    "    def __add__(self, other):\n",
    "        c1 = self.coords\n",
    "        c2 = other.coords\n",
    "        if len(c1)==len(c2):\n",
    "            return Vector([c1[i]+c2[i] for i in range(len(c1))])\n",
    "        else:\n",
    "            raise ValueError(f'left and right lengths differ: {len(c1)} != {len(c2)}')\n",
    "    def __mul__(self, other):\n",
    "        c1 = self.coords\n",
    "        if isinstance(other, Vector):\n",
    "            c2 = other.coords\n",
    "            if len(c1)==len(c2):\n",
    "                return sum([c1[i]*c2[i] for i in range(len(c1))])\n",
    "            else:\n",
    "                raise ValueError(f'left and right lengths differ: {len(c1)} != {len(c2)}')\n",
    "        elif isinstance(other, int):\n",
    "            return Vector([c1[i]*other for i in range(len(c1))])\n",
    "    def __str__(self):\n",
    "        return f'{self.coords}'\n",
    "    def __eq__(self, other):\n",
    "        c1 = self.coords\n",
    "        c2 = other.coords\n",
    "        if c1 == c2:\n",
    "            return True\n",
    "        else:\n",
    "            return False\n",
    "    def __abs__(self):\n",
    "        c = self.coords\n",
    "        ans = []\n",
    "        for i in range(len(c)):\n",
    "            ans.append(c[i]**2)\n",
    "        return sum(ans)**0.5"
   ]
  },
  {
   "cell_type": "code",
   "execution_count": 10,
   "id": "470f1fd9",
   "metadata": {},
   "outputs": [
    {
     "name": "stdout",
     "output_type": "stream",
     "text": [
      "[1, 2, 3]\n",
      "[1]\n"
     ]
    }
   ],
   "source": [
    "print(Vector([1, 2, 3]))\n",
    "# Напечатает: \"[1, 2, 3]\" без кавычек\n",
    "\n",
    "vec = Vector([1])\n",
    "print(vec)\n",
    "# Напечатает \"[1]\" без кавычек\n"
   ]
  },
  {
   "cell_type": "code",
   "execution_count": 11,
   "id": "eb9a786c",
   "metadata": {},
   "outputs": [
    {
     "name": "stdout",
     "output_type": "stream",
     "text": [
      "[10, 15, 25, 40]\n"
     ]
    }
   ],
   "source": [
    "Vector([1, 2, 3]) * Vector([2, 5, -2])  # даст 6\n",
    "# 1 * 2 + 2 * 5 + 3 * (-2) = 6\n",
    "\n",
    "# Vector([1, 2]) * Vector([2, 3, 4])\n",
    "# ValueError: left and right lengths differ: 2 != 3\n",
    "\n",
    "print(Vector([2, 3, 5, 8]) * 5)  # даст Vector([10, 15, 25, 40])"
   ]
  },
  {
   "cell_type": "code",
   "execution_count": 12,
   "id": "eb57862d",
   "metadata": {},
   "outputs": [
    {
     "data": {
      "text/plain": [
       "65.19202405202648"
      ]
     },
     "execution_count": 12,
     "metadata": {},
     "output_type": "execute_result"
    }
   ],
   "source": [
    "abs(Vector([2, 3, 61, 16, 16, 2]))"
   ]
  },
  {
   "cell_type": "markdown",
   "id": "f292396a",
   "metadata": {},
   "source": [
    "## Задания\n",
    "### №12\n",
    "Напишите классы ParsesCookies, ParsesBody, ParsesHeaders по условиям:\n",
    "\n",
    "1. Класс ParsesCookies имеет метод cookies(), возвращающий все по ключу cookies из словаря self.request.\n",
    "2. Класс ParsesCookies имеет метод is_authed(), который будет проверять, что в словаре cookies будет ключ auth_key (ни в коем случае не используйте такую авторизацию в реальных проектах).\n",
    "3. Класс ParsesBody имеет метод body(), возвращающий текст по ключу body в self.request.\n",
    "4. Класс ParsesHeaders имеет метод headers(), возвращающий все по ключу headers из словаря self.request.\n",
    "5. Класс ParsesHeaders имеет метод need_json(), который возвращает True, если в headers по ключу \"content-type\" лежит значение \"application/json\", иначе False.\n",
    "\n",
    "### №13\n",
    "Используя миксины из прошлого пункта, напишите класс JsonHandler, который будет наследоваться от классов ParsesBody и ParsesHeaders , иметь метод process() и конструктор, принимающий аргумент request и сохраняющий в self.request. В этом задании нужно использовать библиотеку json.\n",
    "\n",
    "Метод process() должен работать следующим образом:\n",
    "\n",
    "1. Если need_json() дает False, то возвращать None\n",
    "2. Иначе получать тело через body(), пытаться считать его как json.loads(...) и возвращать число ключей в словаре. Если считать не удалось, то вернуть None.\n",
    "\n",
    "\n",
    "### №14\n",
    "Используя миксины из прошлого пункта, напишите класс SecureTextHandler, который будет наследоваться от классов ParsesBody и ParsesCookies , иметь метод process() и конструктор, принимающий один аргумент и сохраняющий его в нужное поле класса.\n",
    "\n",
    "Метод process() должен работать следующим образом:\n",
    "\n",
    "1. Если is_authed() дает False, то возвращать None.\n",
    "2. Иначе получать тело через body() и возвращать его длину."
   ]
  },
  {
   "cell_type": "code",
   "execution_count": 13,
   "id": "12d5b16c",
   "metadata": {},
   "outputs": [],
   "source": [
    "# будет приходить запрос в виде словаря\n",
    "request = {\n",
    "  \"cookies\": {'auth_key': 155135135315, 'number': 16},\n",
    "  \"body\": \"a long time ago, in a Galaxy far, far away\",\n",
    "  \"headers\": {\"content-type\": \"application/json\", \"Accept\": \"application/json\"}\n",
    "}"
   ]
  },
  {
   "cell_type": "code",
   "execution_count": 14,
   "id": "2c41d8b1",
   "metadata": {},
   "outputs": [],
   "source": [
    "class ParsesCookies():\n",
    "    def cookies(self):\n",
    "        return self.request['cookies']\n",
    "    def is_authed(self):\n",
    "        request = self.request\n",
    "        return 'auth_key' in request['cookies'].keys()"
   ]
  },
  {
   "cell_type": "code",
   "execution_count": 15,
   "id": "fb0da1af",
   "metadata": {},
   "outputs": [],
   "source": [
    "class ParsesBody():\n",
    "    def body(self):\n",
    "        return self.request['body']"
   ]
  },
  {
   "cell_type": "code",
   "execution_count": 16,
   "id": "34b00385",
   "metadata": {},
   "outputs": [],
   "source": [
    "class ParsesHeaders():\n",
    "    def headers(self):\n",
    "        return self.request['headers']\n",
    "    def need_json(self):\n",
    "        return True if self.request[\"headers\"].get(\"content-type\")==\"application/json\" else False"
   ]
  },
  {
   "cell_type": "code",
   "execution_count": 17,
   "id": "55b0ed03",
   "metadata": {},
   "outputs": [],
   "source": [
    "class Handler(ParsesCookies, ParsesBody, ParsesHeaders):\n",
    "    def __init__(self, request):\n",
    "        self.request = request"
   ]
  },
  {
   "cell_type": "code",
   "execution_count": 18,
   "id": "dfccabb7",
   "metadata": {},
   "outputs": [
    {
     "data": {
      "text/plain": [
       "True"
      ]
     },
     "execution_count": 18,
     "metadata": {},
     "output_type": "execute_result"
    }
   ],
   "source": [
    "Handler(request).need_json()"
   ]
  },
  {
   "cell_type": "code",
   "execution_count": 19,
   "id": "1072bb14",
   "metadata": {},
   "outputs": [],
   "source": [
    "import json\n",
    "class JsonHandler(ParsesBody, ParsesHeaders):\n",
    "    def process(self):\n",
    "        if self.need_json()==False:\n",
    "            return None\n",
    "        else:\n",
    "            try:\n",
    "                return len(json.loads(self.body()).keys())\n",
    "            except:\n",
    "                return None\n",
    "    def __init__(self, request):\n",
    "        self.request = request"
   ]
  },
  {
   "cell_type": "code",
   "execution_count": 20,
   "id": "0e966d72",
   "metadata": {},
   "outputs": [
    {
     "name": "stdout",
     "output_type": "stream",
     "text": [
      "2\n"
     ]
    }
   ],
   "source": [
    "# Пример использования\n",
    "r = {'body': '{\"a\": 123, \"b\": 1234}',\n",
    "     'headers': {'content-type': 'application/json'}\n",
    "    }\n",
    "print(JsonHandler(r).process())"
   ]
  },
  {
   "cell_type": "code",
   "execution_count": 21,
   "id": "f367aa36",
   "metadata": {},
   "outputs": [],
   "source": [
    "class SecureTextHandler(ParsesBody, ParsesCookies):\n",
    "    def process(self):\n",
    "        if self.is_authed()==False:\n",
    "            return None\n",
    "        else:\n",
    "            return len(self.body())\n",
    "    def __init__(self, request):\n",
    "        self.request = request"
   ]
  },
  {
   "cell_type": "code",
   "execution_count": 22,
   "id": "dfc995f0",
   "metadata": {},
   "outputs": [
    {
     "name": "stdout",
     "output_type": "stream",
     "text": [
      "5\n",
      "None\n"
     ]
    }
   ],
   "source": [
    "# Примеры\n",
    "r = {'cookies': {'auth_key': '123'},\n",
    "     'body': 'hello'\n",
    "    }\n",
    "print(SecureTextHandler(r).process())\n",
    "# 5\n",
    "\n",
    "r = {'cookies': {},\n",
    "     'body': 'hello'\n",
    "    }\n",
    "print(SecureTextHandler(r).process())\n",
    "# None"
   ]
  }
 ],
 "metadata": {
  "kernelspec": {
   "display_name": "Python 3 (ipykernel)",
   "language": "python",
   "name": "python3"
  },
  "language_info": {
   "codemirror_mode": {
    "name": "ipython",
    "version": 3
   },
   "file_extension": ".py",
   "mimetype": "text/x-python",
   "name": "python",
   "nbconvert_exporter": "python",
   "pygments_lexer": "ipython3",
   "version": "3.11.4"
  }
 },
 "nbformat": 4,
 "nbformat_minor": 5
}
